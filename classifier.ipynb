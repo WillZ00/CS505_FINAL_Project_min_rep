{
 "cells": [
  {
   "cell_type": "code",
   "execution_count": 4,
   "metadata": {},
   "outputs": [],
   "source": [
    "import numpy as np\n",
    "import torch\n",
    "from torch.utils.data import DataLoader, TensorDataset\n",
    "from tqdm import tqdm"
   ]
  },
  {
   "cell_type": "code",
   "execution_count": 6,
   "metadata": {},
   "outputs": [],
   "source": [
    "train_data = np.load('ae_encoded_train_with_labels.npy')\n",
    "test_data = np.load('ae_encoded_test_with_labels.npy')\n",
    "\n",
    "X_train = torch.tensor(train_data[:, :-1], dtype=torch.float32)\n",
    "y_train = torch.tensor(train_data[:, -1], dtype=torch.long)\n",
    "\n",
    "X_test = torch.tensor(test_data[:, :-1], dtype=torch.float32)\n",
    "y_test = torch.tensor(test_data[:, -1], dtype=torch.long)\n",
    "\n"
   ]
  },
  {
   "cell_type": "code",
   "execution_count": 7,
   "metadata": {},
   "outputs": [],
   "source": [
    "train_dataset = TensorDataset(X_train, y_train)\n",
    "test_dataset = TensorDataset(X_test, y_test)\n",
    "\n",
    "batch_size = 8192\n",
    "train_loader = DataLoader(dataset=train_dataset, batch_size=batch_size, shuffle=True)\n",
    "test_loader = DataLoader(dataset=test_dataset, batch_size=batch_size, shuffle=False)"
   ]
  },
  {
   "cell_type": "markdown",
   "metadata": {},
   "source": [
    "## Various Classifier Architecture Tested"
   ]
  },
  {
   "cell_type": "code",
   "execution_count": 12,
   "metadata": {},
   "outputs": [],
   "source": [
    "import torch.nn as nn\n",
    "import torch.nn.functional as F\n",
    "\n",
    "class CNN1DClassifier(nn.Module):\n",
    "    def __init__(self, num_features, num_classes):\n",
    "        super(CNN1DClassifier, self).__init__()\n",
    "        self.conv1 = nn.Conv1d(in_channels=1, out_channels=16, kernel_size=3, stride=1, padding=1)\n",
    "        self.conv2 = nn.Conv1d(in_channels=16, out_channels=32, kernel_size=3, stride=1, padding=1)\n",
    "        self.fc1 = nn.Linear(32 * num_features, 128)\n",
    "        self.fc2 = nn.Linear(128, num_classes)\n",
    "        self.dropout = nn.Dropout(0.5)\n",
    "\n",
    "    def forward(self, x):\n",
    "        x = x.unsqueeze(1)  # Add a channel dimension\n",
    "        x = F.relu(self.conv1(x))\n",
    "        x = F.relu(self.conv2(x))\n",
    "        x = x.view(x.size(0), -1)  # Flatten\n",
    "        x = F.relu(self.fc1(x))\n",
    "        x = self.dropout(x)\n",
    "        x = self.fc2(x)\n",
    "        return x\n"
   ]
  },
  {
   "cell_type": "code",
   "execution_count": 93,
   "metadata": {},
   "outputs": [],
   "source": [
    "import torch\n",
    "import torch.nn as nn\n",
    "import torch.nn.functional as F\n",
    "\n",
    "class attention_mlp(nn.Module):\n",
    "    def __init__(self, num_features, num_classes, embedding_dim=128, num_heads=4):\n",
    "        super(attention_mlp, self).__init__()\n",
    "        self.fc1 = nn.Linear(num_features, embedding_dim)\n",
    "        self.num_heads = num_heads\n",
    "        self.embedding_dim = embedding_dim \n",
    "        self.attention = nn.MultiheadAttention(embed_dim=self.embedding_dim, num_heads=self.num_heads)\n",
    "        \n",
    "        self.fc2 = nn.Linear(embedding_dim, num_classes)\n",
    "        self.dropout = nn.Dropout(0.5)\n",
    "\n",
    "    def forward(self, x):\n",
    "        x = F.relu(self.fc1(x))\n",
    "        x = x.view(-1, x.size(0), self.embedding_dim)\n",
    "\n",
    "        attn_output, _ = self.attention(x, x, x)\n",
    "        x = attn_output.mean(dim=0)\n",
    "\n",
    "        # Apply second MLP layer\n",
    "        x = self.dropout(x)\n",
    "        x = self.fc2(x)\n",
    "\n",
    "        return x\n"
   ]
  },
  {
   "cell_type": "code",
   "execution_count": 97,
   "metadata": {},
   "outputs": [],
   "source": [
    "import torch\n",
    "import torch.nn as nn\n",
    "import torch.nn.functional as F\n",
    "\n",
    "class attention_mlp(nn.Module):\n",
    "    def __init__(self, num_features, num_classes, embedding_dim=128, num_heads=4):\n",
    "        super(attention_mlp, self).__init__()\n",
    "        \n",
    "        self.fc1 = nn.Linear(num_features, embedding_dim)\n",
    "        \n",
    "        self.num_heads = num_heads\n",
    "        self.embedding_dim = embedding_dim\n",
    "        self.attention = nn.MultiheadAttention(embed_dim=self.embedding_dim, num_heads=self.num_heads)\n",
    "        \n",
    "        self.fc2 = nn.Linear(embedding_dim, num_classes)\n",
    "        self.dropout = nn.Dropout(0.5)\n",
    "\n",
    "    def forward(self, x):\n",
    "        x = F.relu(self.fc1(x))\n",
    "        x = x.view(-1, x.size(0), self.embedding_dim)\n",
    "        attn_output, _ = self.attention(x, x, x)\n",
    "        x = attn_output.mean(dim=0)\n",
    "\n",
    "        x = self.dropout(x)\n",
    "        x = self.fc2(x)\n",
    "        x = torch.sigmoid(x)\n",
    "\n",
    "        return x\n"
   ]
  },
  {
   "cell_type": "code",
   "execution_count": 17,
   "metadata": {},
   "outputs": [],
   "source": [
    "class CNN1DClassifier(nn.Module):\n",
    "    def __init__(self, num_features, num_classes):\n",
    "        super(CNN1DClassifier, self).__init__()\n",
    "        self.layer1 = nn.Sequential(\n",
    "            nn.Conv1d(in_channels=1, out_channels=16, kernel_size=3, padding=1),\n",
    "            nn.BatchNorm1d(16),\n",
    "            nn.ReLU(),\n",
    "            nn.MaxPool1d(kernel_size=2, stride=2))\n",
    "        \n",
    "        self.layer2 = nn.Sequential(\n",
    "            nn.Conv1d(in_channels=16, out_channels=32, kernel_size=3, padding=1),\n",
    "            nn.BatchNorm1d(32),\n",
    "            nn.ReLU(),\n",
    "            nn.MaxPool1d(kernel_size=2, stride=2))\n",
    "        \n",
    "        self.layer3 = nn.Sequential(\n",
    "            nn.Conv1d(in_channels=32, out_channels=64, kernel_size=3, padding=1),\n",
    "            nn.BatchNorm1d(64),\n",
    "            nn.ReLU(),\n",
    "            nn.MaxPool1d(kernel_size=2, stride=2))\n",
    "        \n",
    "        self.fc1 = nn.Linear(64 * (num_features // 8), 128)\n",
    "        self.dropout = nn.Dropout(0.5)\n",
    "        self.fc2 = nn.Linear(128, num_classes)\n",
    "\n",
    "    def forward(self, x):\n",
    "        x = x.unsqueeze(1)\n",
    "        x = self.layer1(x)\n",
    "        x = self.layer2(x)\n",
    "        x = self.layer3(x)\n",
    "        x = x.view(x.size(0), -1)\n",
    "        x = F.relu(self.fc1(x))\n",
    "        x = self.dropout(x)\n",
    "        x = self.fc2(x)\n",
    "        return x\n"
   ]
  },
  {
   "cell_type": "code",
   "execution_count": 24,
   "metadata": {},
   "outputs": [],
   "source": [
    "class MLPMixerLayer(nn.Module):\n",
    "    def __init__(self, num_patches, hidden_dim, tokens_mlp_dim, channels_mlp_dim):\n",
    "        super().__init__()\n",
    "        self.norm1 = nn.LayerNorm(hidden_dim)\n",
    "        self.token_mixing = nn.Linear(num_patches, tokens_mlp_dim)\n",
    "        self.token_out = nn.Linear(tokens_mlp_dim, num_patches)\n",
    "        self.norm2 = nn.LayerNorm(hidden_dim)\n",
    "        self.channel_mixing = nn.Linear(hidden_dim, channels_mlp_dim)\n",
    "        self.channel_out = nn.Linear(channels_mlp_dim, hidden_dim)\n",
    "\n",
    "    def forward(self, x):\n",
    "        y = self.norm1(x).transpose(1, 2)\n",
    "        y = F.relu(self.token_mixing(y))\n",
    "        y = self.token_out(y).transpose(1, 2) \n",
    "        x = x + y\n",
    "\n",
    "        y = self.norm2(x)\n",
    "        y = F.relu(self.channel_mixing(y))\n",
    "        y = self.channel_out(y)\n",
    "        x = x + y\n",
    "\n",
    "        return x\n",
    "\n",
    "class VectorMLPMixer(nn.Module):\n",
    "    def __init__(self, num_patches, num_classes, num_layers, hidden_dim, tokens_mlp_dim, channels_mlp_dim):\n",
    "        super().__init__()\n",
    "\n",
    "        self.patch_embedding = nn.Linear(num_patches, hidden_dim)\n",
    "        self.mixer_layers = nn.ModuleList([])\n",
    "        for _ in range(num_layers):\n",
    "            layer = MLPMixerLayer(num_patches, hidden_dim, tokens_mlp_dim, channels_mlp_dim)\n",
    "            self.mixer_layers.append(layer)\n",
    "\n",
    "        self.layer_norm = nn.LayerNorm(hidden_dim)\n",
    "        self.fc = nn.Linear(hidden_dim, num_classes)\n",
    "\n",
    "    def forward(self, x):\n",
    "        x = self.patch_embedding(x) \n",
    "        x = x.unsqueeze(2)\n",
    "        for layer in self.mixer_layers:\n",
    "            x = layer(x)\n",
    "\n",
    "        x = x.squeeze(2) \n",
    "        x = self.layer_norm(x)\n",
    "        x = x.mean(dim=1)\n",
    "        x = self.fc(x)\n",
    "        return x\n",
    "\n",
    "\n",
    "\n",
    "model = VectorMLPMixer(\n",
    "    num_patches=128, \n",
    "    num_classes=2,    \n",
    "    num_layers=8,    \n",
    "    hidden_dim=128,\n",
    "    tokens_mlp_dim=256, \n",
    "    channels_mlp_dim=2048\n",
    ")\n",
    "\n"
   ]
  },
  {
   "cell_type": "code",
   "execution_count": null,
   "metadata": {},
   "outputs": [],
   "source": []
  },
  {
   "cell_type": "markdown",
   "metadata": {},
   "source": [
    "### Final choice: an MLP network with minimal parameter size that still does good on the test set"
   ]
  },
  {
   "cell_type": "code",
   "execution_count": null,
   "metadata": {},
   "outputs": [],
   "source": [
    "import torch.nn as nn\n",
    "import torch.nn.functional as F\n",
    "\n",
    "class MLPClassifier(nn.Module):\n",
    "    def __init__(self, num_features, num_classes):\n",
    "        super(MLPClassifier, self).__init__()\n",
    "        self.fc1 = nn.Linear(num_features, 128)\n",
    "        self.fc2 = nn.Linear(128, 64)\n",
    "        self.fc3 = nn.Linear(64, num_classes)\n",
    "        self.dropout = nn.Dropout(0.5)\n",
    "\n",
    "    def forward(self, x):\n",
    "        x = x.view(x.size(0), -1)\n",
    "        x = F.relu(self.fc1(x))\n",
    "        x = self.dropout(x)\n",
    "        x = F.relu(self.fc2(x))\n",
    "        x = self.dropout(x)\n",
    "        x = self.fc3(x)\n",
    "\n",
    "        x = torch.sigmoid(x)\n",
    "        return x"
   ]
  },
  {
   "cell_type": "code",
   "execution_count": 8,
   "metadata": {},
   "outputs": [
    {
     "name": "stdout",
     "output_type": "stream",
     "text": [
      "cpu\n"
     ]
    }
   ],
   "source": [
    "device = 'cpu'\n",
    "print(device)\n",
    "num_classes = 2\n",
    "num_features = X_train.shape[1]\n",
    "\n",
    "model = MLPClassifier(num_features, num_classes).to(device)\n",
    "\n"
   ]
  },
  {
   "cell_type": "code",
   "execution_count": 9,
   "metadata": {},
   "outputs": [],
   "source": [
    "pytorch_total_params = sum(p.numel() for p in model.parameters())"
   ]
  },
  {
   "cell_type": "code",
   "execution_count": 10,
   "metadata": {},
   "outputs": [
    {
     "data": {
      "text/plain": [
       "24898"
      ]
     },
     "execution_count": 10,
     "metadata": {},
     "output_type": "execute_result"
    }
   ],
   "source": [
    "pytorch_total_params"
   ]
  },
  {
   "cell_type": "code",
   "execution_count": 111,
   "metadata": {},
   "outputs": [],
   "source": [
    "criterion = nn.CrossEntropyLoss()\n",
    "optimizer = torch.optim.Adam(model.parameters(), lr=0.001)\n",
    "# optimizer = torch.optim.SGD(model.parameters(), lr=0.01, momentum=0.9)\n"
   ]
  },
  {
   "cell_type": "code",
   "execution_count": 112,
   "metadata": {},
   "outputs": [
    {
     "name": "stderr",
     "output_type": "stream",
     "text": [
      "Epoch 1/10 [Training]: 100%|██████████| 157/157 [00:07<00:00, 21.77batch/s, loss=0.5]  \n",
      "Epoch 1/10 [Testing]: 100%|██████████| 40/40 [00:01<00:00, 29.55batch/s]\n"
     ]
    },
    {
     "name": "stdout",
     "output_type": "stream",
     "text": [
      "Epoch 1, Train Loss: 0.5433, Test Accuracy: 0.8162\n"
     ]
    },
    {
     "name": "stderr",
     "output_type": "stream",
     "text": [
      "Epoch 2/10 [Training]: 100%|██████████| 157/157 [00:07<00:00, 21.78batch/s, loss=0.487]\n",
      "Epoch 2/10 [Testing]: 100%|██████████| 40/40 [00:01<00:00, 30.43batch/s]\n"
     ]
    },
    {
     "name": "stdout",
     "output_type": "stream",
     "text": [
      "Epoch 2, Train Loss: 0.4900, Test Accuracy: 0.8167\n"
     ]
    },
    {
     "name": "stderr",
     "output_type": "stream",
     "text": [
      "Epoch 3/10 [Training]: 100%|██████████| 157/157 [00:07<00:00, 21.87batch/s, loss=0.485]\n",
      "Epoch 3/10 [Testing]: 100%|██████████| 40/40 [00:01<00:00, 31.43batch/s]\n"
     ]
    },
    {
     "name": "stdout",
     "output_type": "stream",
     "text": [
      "Epoch 3, Train Loss: 0.4889, Test Accuracy: 0.8164\n"
     ]
    },
    {
     "name": "stderr",
     "output_type": "stream",
     "text": [
      "Epoch 4/10 [Training]: 100%|██████████| 157/157 [00:07<00:00, 21.66batch/s, loss=0.489]\n",
      "Epoch 4/10 [Testing]: 100%|██████████| 40/40 [00:01<00:00, 30.41batch/s]\n"
     ]
    },
    {
     "name": "stdout",
     "output_type": "stream",
     "text": [
      "Epoch 4, Train Loss: 0.4880, Test Accuracy: 0.8169\n"
     ]
    },
    {
     "name": "stderr",
     "output_type": "stream",
     "text": [
      "Epoch 5/10 [Training]: 100%|██████████| 157/157 [00:07<00:00, 21.51batch/s, loss=0.482]\n",
      "Epoch 5/10 [Testing]: 100%|██████████| 40/40 [00:01<00:00, 30.38batch/s]\n"
     ]
    },
    {
     "name": "stdout",
     "output_type": "stream",
     "text": [
      "Epoch 5, Train Loss: 0.4872, Test Accuracy: 0.8147\n"
     ]
    },
    {
     "name": "stderr",
     "output_type": "stream",
     "text": [
      "Epoch 6/10 [Training]: 100%|██████████| 157/157 [00:07<00:00, 21.93batch/s, loss=0.498]\n",
      "Epoch 6/10 [Testing]: 100%|██████████| 40/40 [00:01<00:00, 29.81batch/s]\n"
     ]
    },
    {
     "name": "stdout",
     "output_type": "stream",
     "text": [
      "Epoch 6, Train Loss: 0.4866, Test Accuracy: 0.8172\n"
     ]
    },
    {
     "name": "stderr",
     "output_type": "stream",
     "text": [
      "Epoch 7/10 [Training]: 100%|██████████| 157/157 [00:07<00:00, 21.85batch/s, loss=0.494]\n",
      "Epoch 7/10 [Testing]: 100%|██████████| 40/40 [00:01<00:00, 30.25batch/s]\n"
     ]
    },
    {
     "name": "stdout",
     "output_type": "stream",
     "text": [
      "Epoch 7, Train Loss: 0.4863, Test Accuracy: 0.8150\n"
     ]
    },
    {
     "name": "stderr",
     "output_type": "stream",
     "text": [
      "Epoch 8/10 [Training]: 100%|██████████| 157/157 [00:07<00:00, 21.57batch/s, loss=0.498]\n",
      "Epoch 8/10 [Testing]: 100%|██████████| 40/40 [00:01<00:00, 28.86batch/s]\n"
     ]
    },
    {
     "name": "stdout",
     "output_type": "stream",
     "text": [
      "Epoch 8, Train Loss: 0.4862, Test Accuracy: 0.8173\n"
     ]
    },
    {
     "name": "stderr",
     "output_type": "stream",
     "text": [
      "Epoch 9/10 [Training]: 100%|██████████| 157/157 [00:07<00:00, 21.84batch/s, loss=0.494]\n",
      "Epoch 9/10 [Testing]: 100%|██████████| 40/40 [00:01<00:00, 30.32batch/s]\n"
     ]
    },
    {
     "name": "stdout",
     "output_type": "stream",
     "text": [
      "Epoch 9, Train Loss: 0.4859, Test Accuracy: 0.8167\n"
     ]
    },
    {
     "name": "stderr",
     "output_type": "stream",
     "text": [
      "Epoch 10/10 [Training]: 100%|██████████| 157/157 [00:07<00:00, 21.77batch/s, loss=0.477]\n",
      "Epoch 10/10 [Testing]: 100%|██████████| 40/40 [00:01<00:00, 30.41batch/s]"
     ]
    },
    {
     "name": "stdout",
     "output_type": "stream",
     "text": [
      "Epoch 10, Train Loss: 0.4858, Test Accuracy: 0.8173\n"
     ]
    },
    {
     "name": "stderr",
     "output_type": "stream",
     "text": [
      "\n"
     ]
    }
   ],
   "source": [
    "num_epochs = 10\n",
    "for epoch in range(num_epochs):\n",
    "    model.train()\n",
    "    train_loss = 0\n",
    "    train_loader_with_progress = tqdm(train_loader, desc=f'Epoch {epoch+1}/{num_epochs} [Training]', unit='batch')\n",
    "    \n",
    "    for inputs, labels in train_loader_with_progress:\n",
    "        inputs, labels = inputs.to(device), labels.to(device)\n",
    "\n",
    "        optimizer.zero_grad()\n",
    "\n",
    "        outputs = model(inputs)\n",
    "        loss = criterion(outputs, labels)\n",
    "\n",
    "\n",
    "        loss.backward()\n",
    "        optimizer.step()\n",
    "\n",
    "        train_loss += loss.item()\n",
    "        train_loader_with_progress.set_postfix(loss=loss.item())\n",
    "\n",
    "    avg_train_loss = train_loss / len(train_loader)\n",
    "\n",
    "    # Evaluation phase\n",
    "    model.eval()\n",
    "    total_correct = 0\n",
    "    total_samples = 0\n",
    "    test_loader_with_progress = tqdm(test_loader, desc=f'Epoch {epoch+1}/{num_epochs} [Testing]', unit='batch')\n",
    "    \n",
    "    with torch.no_grad():\n",
    "        for inputs, labels in test_loader_with_progress:\n",
    "            inputs, labels = inputs.to(device), labels.to(device)\n",
    "            outputs = model(inputs)\n",
    "            _, predicted = torch.max(outputs.data, 1)\n",
    "            total_samples += labels.size(0)\n",
    "            total_correct += (predicted == labels).sum().item()\n",
    "\n",
    "    test_accuracy = total_correct / total_samples\n",
    "    test_loader_with_progress.set_postfix(accuracy=f'{test_accuracy:.2f}')\n",
    "\n",
    "    print(f'Epoch {epoch+1}, Train Loss: {avg_train_loss:.4f}, Test Accuracy: {test_accuracy:.4f}')"
   ]
  },
  {
   "cell_type": "code",
   "execution_count": null,
   "metadata": {},
   "outputs": [],
   "source": []
  },
  {
   "cell_type": "markdown",
   "metadata": {},
   "source": [
    "## Model Testing"
   ]
  },
  {
   "cell_type": "code",
   "execution_count": 108,
   "metadata": {},
   "outputs": [
    {
     "name": "stdout",
     "output_type": "stream",
     "text": [
      "Accuracy of the model on the test dataset: 81.72125%\n"
     ]
    }
   ],
   "source": [
    "model.eval()\n",
    "with torch.no_grad():\n",
    "    correct = 0\n",
    "    total = 0\n",
    "    for inputs, labels in test_loader:\n",
    "        inputs, labels = inputs.to(device), labels.to(device)\n",
    "        outputs = model(inputs)\n",
    "        _, predicted = torch.max(outputs.data, 1)\n",
    "        total += labels.size(0)\n",
    "        correct += (predicted == labels).sum().item()\n",
    "\n",
    "    print(f'Accuracy of the model on the test dataset: {100 * correct / total}%')\n"
   ]
  },
  {
   "cell_type": "code",
   "execution_count": null,
   "metadata": {},
   "outputs": [],
   "source": []
  },
  {
   "cell_type": "code",
   "execution_count": null,
   "metadata": {},
   "outputs": [],
   "source": []
  }
 ],
 "metadata": {
  "kernelspec": {
   "display_name": "cs505",
   "language": "python",
   "name": "python3"
  },
  "language_info": {
   "codemirror_mode": {
    "name": "ipython",
    "version": 3
   },
   "file_extension": ".py",
   "mimetype": "text/x-python",
   "name": "python",
   "nbconvert_exporter": "python",
   "pygments_lexer": "ipython3",
   "version": "3.9.18"
  }
 },
 "nbformat": 4,
 "nbformat_minor": 2
}
